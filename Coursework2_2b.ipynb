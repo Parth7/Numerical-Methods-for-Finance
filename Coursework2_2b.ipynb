{
 "cells": [
  {
   "cell_type": "code",
   "execution_count": 34,
   "metadata": {},
   "outputs": [
    {
     "name": "stdout",
     "output_type": "stream",
     "text": [
      "0.13123176715585647 0.19141754931407895\n"
     ]
    }
   ],
   "source": [
    "#!/usr/bin/python3\n",
    "#Coursework2_2b.ipynb\n",
    "#Parth Parakh\n",
    "#purpose: Merton jump-diffusion based option pricing using MC\n",
    "#---------------------------------------------------------------------\n",
    "#import modules\n",
    "import numpy as np\n",
    "import matplotlib.pyplot as plt\n",
    "#----------------------------------------------------------------------\n",
    "\n",
    "#Defining the parameters\n",
    "T = 1;                    #time horizon\n",
    "S0 = 1;                   # spot price\n",
    "K = 1.1;  # strike price\n",
    "r = 0.1; sigma = 0.4; q = 0.02   #model parameters\n",
    "muJ = -0.11; sigmaJ = 0.15; lambdaa = 0.5;\n",
    "\n",
    "#Monte Carlo parameters; npaths = nblocks*nsample\n",
    "nblocks = 500; #number of blocks\n",
    "nsample = 1000; #number of samples per block\n",
    "muRN = r-q-0.5*sigma**2;\n",
    "VcMCb = np.zeros((nblocks,nsample));\n",
    "VpMCb = np.zeros((nblocks,nsample));\n",
    "\n",
    "for i in range(0,nblocks):\n",
    "    dW = muRN*T + sigma*np.sqrt(T)*np.random.normal(0,1,(nsample,1));\n",
    "    dN = np.random.poisson(lambdaa*T,(nsample,1));\n",
    "    dJ = muJ*dN + sigmaJ*np.sqrt(dN)*np.random.normal(0,1,(nsample,1));\n",
    "    dX = dW + dJ;\n",
    "    S = S0*np.exp(dX);\n",
    "    #Discounted expected payoff\n",
    "    for j in range(0,nsample):\n",
    "        VcMCb[i][j] = np.exp(-r*T)*(max(S[j]-K,0));\n",
    "        VpMCb[i][j] = np.exp(-r*T)*(max(K-S[j],0));\n",
    "\n",
    "VcMC = np.mean(VcMCb);\n",
    "VpMC = np.mean(VpMCb)\n",
    "print(VcMC,VpMC);"
   ]
  },
  {
   "cell_type": "code",
   "execution_count": null,
   "metadata": {},
   "outputs": [],
   "source": []
  }
 ],
 "metadata": {
  "kernelspec": {
   "display_name": "Python 3",
   "language": "python",
   "name": "python3"
  },
  "language_info": {
   "codemirror_mode": {
    "name": "ipython",
    "version": 3
   },
   "file_extension": ".py",
   "mimetype": "text/x-python",
   "name": "python",
   "nbconvert_exporter": "python",
   "pygments_lexer": "ipython3",
   "version": "3.7.7"
  }
 },
 "nbformat": 4,
 "nbformat_minor": 4
}
