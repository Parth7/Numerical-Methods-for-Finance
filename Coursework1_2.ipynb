{
 "cells": [
  {
   "cell_type": "code",
   "execution_count": 4,
   "metadata": {},
   "outputs": [
    {
     "name": "stdout",
     "output_type": "stream",
     "text": [
      "value of i is 52\n",
      "value of i is 52\n",
      "<class 'str'>\n",
      "value of epsilon in 22 decimal point is 0.0000000000000002220446\n",
      "value of epsilon from f 2.220446049250313e-16\n",
      "1.0000000000000002\n",
      "1.0\n"
     ]
    }
   ],
   "source": [
    "#!/usr/bin/python3.7.4\n",
    "#Coursework1_2.py\n",
    "\n",
    "#(a)\n",
    "ε = 1       \n",
    "for i in range(0,100):  # starting from zero since python starts from 0 but MATLAB starts from 1\n",
    "    if(1+ε==1):\n",
    "        break\n",
    "    else :\n",
    "        ε = ε/2\n",
    "print(\"value of i is\",i-1) #since loop breaks at i, the smallest possible value occurs at i-1\n",
    "\n",
    "#(b)\n",
    "ε = 1\n",
    "i = 0\n",
    "while(1+ε!=1):\n",
    "    i+=1\n",
    "    ε/=2\n",
    "print(\"value of i is\",i-1)\n",
    "\n",
    "#(c)\n",
    "#works similar to fprintf; converts to string and outputs as fixed point notation with 22 decimal digits\n",
    "\n",
    "#current value of ε is for i=53 which is when the loop breaks but we want the value of machine precision \n",
    "#just before the loop breaks ie for i=52, hence to get the machine precision vaue we need to multiply ε by 2 \n",
    "#to get the value corresponding to i=52. \n",
    "s = \"%.22f\" % (ε*2) #value at ε is for i= 52, \n",
    "print(type(s)) # output is of type 'string' as required\n",
    "print(\"value of epsilon in 22 decimal point is\",s)\n",
    "\n",
    "#(d)\n",
    "i = 52 #final value of i as found out from (a) or (b); \n",
    "#we take the value as i-1 since according to our loop condition, i we'll break when 1+ε==1 but we want \n",
    "#the smallest ε before 1+ε==1, therefore taking i as 52\n",
    "#defining function f(.) which takes i as input and return value of ε\n",
    "def f(i):\n",
    "    ε = 1\n",
    "    j = 0\n",
    "    while(i!=j):\n",
    "        j +=1\n",
    "        ε /=2\n",
    "    return ε\n",
    "\n",
    "#testing f(.) by passing i and printing the output\n",
    "d = f(i)\n",
    "print(\"value of epsilon from f\", d)\n",
    "\n",
    "#(e)\n",
    "s1 = 1+d\n",
    "s2 = 1+d/2\n",
    "print(s1)\n",
    "print(s2)"
   ]
  }
 ],
 "metadata": {
  "kernelspec": {
   "display_name": "Python 3",
   "language": "python",
   "name": "python3"
  },
  "language_info": {
   "codemirror_mode": {
    "name": "ipython",
    "version": 3
   },
   "file_extension": ".py",
   "mimetype": "text/x-python",
   "name": "python",
   "nbconvert_exporter": "python",
   "pygments_lexer": "ipython3",
   "version": "3.7.7"
  }
 },
 "nbformat": 4,
 "nbformat_minor": 4
}
