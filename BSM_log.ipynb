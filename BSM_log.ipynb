{
 "cells": [
  {
   "cell_type": "code",
   "execution_count": null,
   "metadata": {},
   "outputs": [],
   "source": [
    "import numpy as np\n",
    "from scipy.stats import norm\n",
    "import matplotlib.pyplot as plt\n",
    "\n",
    "fig = plt.figure(figsize=(7,4), dpi=100)\n",
    "ax = plt.axes(projection='3d')\n",
    "\n",
    "# Data\n",
    "T = 1;K = 1.1;r = 0.05;\n",
    "q = 0.02;sigma = 0.4;\n",
    "S = np.arange(0.01,2,0.05)\n",
    "t = np.arange(0,T,0.025)\n",
    "S,t = np.meshgrid(S,t)\n",
    "dt = T-t\n",
    "numerator1 = np.log(S/K) + (r-q+((sigma**2)/2))*dt\n",
    "numerator2 = np.log(S/K) + (r-q-((sigma**2)/2))*dt\n",
    "denominator = sigma*np.sqrt(T-t)\n",
    "d1 = numerator1/denominator\n",
    "d2 = numerator2/denominator\n",
    "\n",
    "#Call\n",
    "F1_1 = norm.cdf(d1)\n",
    "F1_2 = norm.cdf(d2)\n",
    "Vc = S*np.exp(-q*(dt))*F1_1 - K*np.exp(-r*dt)*F1_2\n",
    "\n",
    "#Put\n",
    "F2_1 = norm.cdf(-d2)\n",
    "F2_2 = norm.cdf(-d1)\n",
    "Vp = K*np.exp(-r*(dt))*F2_1 - S*np.exp(-q*dt)*F2_2\n",
    "\n",
    "# Plot\n",
    "surf = ax.plot_surface(S,t,Vc)\n",
    "surf = ax.plot_surface(S,t,Vp)\n",
    "plt.tight_layout()\n",
    "plt.show()"
   ]
  }
 ],
 "metadata": {
  "kernelspec": {
   "display_name": "Python 3",
   "language": "python",
   "name": "python3"
  },
  "language_info": {
   "codemirror_mode": {
    "name": "ipython",
    "version": 3
   },
   "file_extension": ".py",
   "mimetype": "text/x-python",
   "name": "python",
   "nbconvert_exporter": "python",
   "pygments_lexer": "ipython3",
   "version": "3.7.7"
  }
 },
 "nbformat": 4,
 "nbformat_minor": 4
}
