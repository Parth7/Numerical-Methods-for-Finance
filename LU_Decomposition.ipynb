{
 "cells": [
  {
   "cell_type": "code",
   "execution_count": 2,
   "metadata": {},
   "outputs": [],
   "source": [
    "#!/usr/bin/python3\n",
    "#LU_Decomposition.ipynb\n",
    "#Parth Parakh\n",
    "#purpose: # Learn how to perform LU decomposition of a mtrx\n",
    "#---------------------------------------------------------------------\n",
    "#import modules\n",
    "import numpy as np\n",
    "import scipy as scp\n",
    "from scipy.linalg import solve_triangular\n",
    "\n",
    "from IPython.display import display\n",
    "import sympy; sympy.init_printing()\n",
    "\n",
    "def display_matrix(m):\n",
    "    display(sympy.Matrix(m))\n",
    "    \n",
    "A = np.array([[2, 5, 8, 7], [5, 2, 2, 8], [7, 5, 6, 6], [5, 4, 4, 8]])\n",
    "x = np.array([[1],[2],[3],[4]])\n",
    "b = A @ x "
   ]
  },
  {
   "cell_type": "code",
   "execution_count": 4,
   "metadata": {},
   "outputs": [
    {
     "name": "stdout",
     "output_type": "stream",
     "text": [
      "Lower triangular matrix:\n"
     ]
    },
    {
     "data": {
      "text/latex": [
       "$\\displaystyle \\left[\\begin{matrix}1.0 & 0.0 & 0.0 & 0.0\\\\0.29 & 1.0 & 0.0 & 0.0\\\\0.71 & 0.12 & 1.0 & 0.0\\\\0.71 & -0.44 & -0.46 & 1.0\\end{matrix}\\right]$"
      ],
      "text/plain": [
       "⎡1.0    0.0    0.0   0.0⎤\n",
       "⎢                       ⎥\n",
       "⎢0.29   1.0    0.0   0.0⎥\n",
       "⎢                       ⎥\n",
       "⎢0.71  0.12    1.0   0.0⎥\n",
       "⎢                       ⎥\n",
       "⎣0.71  -0.44  -0.46  1.0⎦"
      ]
     },
     "metadata": {},
     "output_type": "display_data"
    },
    {
     "name": "stdout",
     "output_type": "stream",
     "text": [
      "Upper triangular matrix:\n"
     ]
    },
    {
     "data": {
      "text/latex": [
       "$\\displaystyle \\left[\\begin{matrix}7.0 & 5.0 & 6.0 & 6.0\\\\0.0 & 3.57 & 6.29 & 5.29\\\\0.0 & 0.0 & -1.04 & 3.08\\\\0.0 & 0.0 & 0.0 & 7.46\\end{matrix}\\right]$"
      ],
      "text/plain": [
       "⎡7.0  5.0    6.0   6.0 ⎤\n",
       "⎢                      ⎥\n",
       "⎢0.0  3.57  6.29   5.29⎥\n",
       "⎢                      ⎥\n",
       "⎢0.0  0.0   -1.04  3.08⎥\n",
       "⎢                      ⎥\n",
       "⎣0.0  0.0    0.0   7.46⎦"
      ]
     },
     "metadata": {},
     "output_type": "display_data"
    },
    {
     "name": "stdout",
     "output_type": "stream",
     "text": [
      "Permutation matrix:\n"
     ]
    },
    {
     "data": {
      "text/latex": [
       "$\\displaystyle \\left[\\begin{matrix}0.0 & 1.0 & 0.0 & 0.0\\\\0.0 & 0.0 & 0.0 & 1.0\\\\1.0 & 0.0 & 0.0 & 0.0\\\\0.0 & 0.0 & 1.0 & 0.0\\end{matrix}\\right]$"
      ],
      "text/plain": [
       "⎡0.0  1.0  0.0  0.0⎤\n",
       "⎢                  ⎥\n",
       "⎢0.0  0.0  0.0  1.0⎥\n",
       "⎢                  ⎥\n",
       "⎢1.0  0.0  0.0  0.0⎥\n",
       "⎢                  ⎥\n",
       "⎣0.0  0.0  1.0  0.0⎦"
      ]
     },
     "metadata": {},
     "output_type": "display_data"
    }
   ],
   "source": [
    "#$$ A x = b$$\n",
    "#$$ PLU x = b $$\n",
    "#$$ P^{-1} = P^T $$\n",
    "#$$ L y = P^T b $$\n",
    "#$$ U x = y $$\n",
    "#https://github.com/cantaro86/Financial-Models-Numerical-Methods/blob/master/A.1%20Solution%20of%20linear%20equations.ipynb\n",
    "P, L, U = scp.linalg.lu(A)\n",
    "print(\"Lower triangular matrix:\")\n",
    "display_matrix(L.round(2))\n",
    "print(\"Upper triangular matrix:\")\n",
    "display_matrix(U.round(2))\n",
    "print(\"Permutation matrix:\")\n",
    "display_matrix(P)"
   ]
  },
  {
   "cell_type": "code",
   "execution_count": 5,
   "metadata": {},
   "outputs": [
    {
     "data": {
      "text/latex": [
       "$\\displaystyle \\left[\\begin{matrix}1.0\\\\2.0\\\\3.0\\\\4.0\\end{matrix}\\right]$"
      ],
      "text/plain": [
       "⎡1.0⎤\n",
       "⎢   ⎥\n",
       "⎢2.0⎥\n",
       "⎢   ⎥\n",
       "⎢3.0⎥\n",
       "⎢   ⎥\n",
       "⎣4.0⎦"
      ]
     },
     "metadata": {},
     "output_type": "display_data"
    }
   ],
   "source": [
    "y = solve_triangular(L,P.T @ b, lower=True)\n",
    "x_solution = solve_triangular(U,y)  # by default it considers upper triangular matricies as input\n",
    "display_matrix(x_solution.round(2))"
   ]
  },
  {
   "cell_type": "code",
   "execution_count": null,
   "metadata": {},
   "outputs": [],
   "source": []
  }
 ],
 "metadata": {
  "kernelspec": {
   "display_name": "Python 3",
   "language": "python",
   "name": "python3"
  },
  "language_info": {
   "codemirror_mode": {
    "name": "ipython",
    "version": 3
   },
   "file_extension": ".py",
   "mimetype": "text/x-python",
   "name": "python",
   "nbconvert_exporter": "python",
   "pygments_lexer": "ipython3",
   "version": "3.7.7"
  }
 },
 "nbformat": 4,
 "nbformat_minor": 4
}
